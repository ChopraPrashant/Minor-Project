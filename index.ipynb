{
 "cells": [
  {
   "cell_type": "code",
   "execution_count": 36,
   "metadata": {},
   "outputs": [],
   "source": [
    "from models import BagOfWords, TFIDF, LSA, GraphRank, TopicClustering\n",
    "from metrics import calculate_rouge, calculate_bleu"
   ]
  },
  {
   "cell_type": "code",
   "execution_count": 37,
   "metadata": {},
   "outputs": [],
   "source": [
    "\n",
    "# Define input text and reference summary\n",
    "text = \"\"\"\"\n",
    "The Trump administration has ordered the military to start withdrawing roughly 7,000 troops from Afghanistan in the coming months, two defense officials said Thursday, an abrupt shift in the 17-year-old war there and a decision that stunned Afghan officials, who said they had not been briefed on the plans.\n",
    "President Trump made the decision to pull the troops - about half the number the United States has in Afghanistan now - at the same time he decided to pull American forces out of Syria, one official said.\n",
    "The announcement came hours after Jim Mattis, the secretary of defense, said that he would resign from his position at the end of February after disagreeing with the president over his approach to policy in the Middle East.\n",
    "The whirlwind of troop withdrawals and the resignation of Mr. Mattis leave a murky picture for what is next in the United States’ longest war, and they come as Afghanistan has been troubled by spasms of violence afflicting the capital, Kabul, and other important areas. \n",
    "The United States has also been conducting talks with representatives of the Taliban, in what officials have described as discussions that could lead to formal talks to end the conflict.\n",
    "Senior Afghan officials and Western diplomats in Kabul woke up to the shock of the news on Friday morning, and many of them braced for chaos ahead. \n",
    "Several Afghan officials, often in the loop on security planning and decision-making, said they had received no indication in recent days that the Americans would pull troops out. \n",
    "The fear that Mr. Trump might take impulsive actions, however, often loomed in the background of discussions with the United States, they said.\n",
    "They saw the abrupt decision as a further sign that voices from the ground were lacking in the debate over the war and that with Mr. Mattis’s resignation, Afghanistan had lost one of the last influential voices in Washington who channeled the reality of the conflict into the White House’s deliberations.\n",
    "The president long campaigned on bringing troops home, but in 2017, at the request of Mr. Mattis, he begrudgingly pledged an additional 4,000 troops to the Afghan campaign to try to hasten an end to the conflict.\n",
    "Though Pentagon officials have said the influx of forces - coupled with a more aggressive air campaign - was helping the war effort, Afghan forces continued to take nearly unsustainable levels of casualties and lose ground to the Taliban.\n",
    "The renewed American effort in 2017 was the first step in ensuring Afghan forces could become more independent without a set timeline for a withdrawal. \n",
    "But with plans to quickly reduce the number of American troops in the country, it is unclear if the Afghans can hold their own against an increasingly aggressive Taliban.\n",
    "Currently, American airstrikes are at levels not seen since the height of the war, when tens of thousands of American troops were spread throughout the country. \n",
    "That air support, officials say, consists mostly of propping up Afghan troops while they try to hold territory from a resurgent Taliban.\n",
    "\"\"\"  \n",
    "\n",
    "reference_summary = \"\"\"\n",
    "The whirlwind of troop withdrawals and the resignation of Mr. Mattis leave a murky picture for what is next in the United States’ longest war, and they come as Afghanistan has been troubled by spasms of violence afflicting the capital, Kabul, and other important areas. \n",
    "They saw the abrupt decision as a further sign that voices from the ground were lacking in the debate over the war and that with Mr. Mattis’s resignation, Afghanistan had lost one of the last influential voices in Washington who channeled the reality of the conflict into the White House’s deliberations. \n",
    "Though Pentagon officials have said the influx of forces - coupled with a more aggressive air campaign - was helping the war effort, Afghan forces continued to take nearly unsustainable levels of casualties and lose ground to the Taliban.\n",
    "\"\"\" "
   ]
  },
  {
   "cell_type": "code",
   "execution_count": 38,
   "metadata": {},
   "outputs": [],
   "source": [
    "# Generate summaries using each model\n",
    "bow_summary = BagOfWords.summarize(text)\n",
    "tfidf_summary = TFIDF.summarize(text)\n",
    "lsa_summary = LSA.summarize(text)\n",
    "graph_summary = GraphRank.summarize(text)\n",
    "topic_cluster=TopicClustering.summarize(text, n_clusters=3)"
   ]
  },
  {
   "cell_type": "markdown",
   "metadata": {},
   "source": [
    "### Display summaries and their evaluations"
   ]
  },
  {
   "cell_type": "code",
   "execution_count": 39,
   "metadata": {},
   "outputs": [
    {
     "name": "stdout",
     "output_type": "stream",
     "text": [
      "Bag of Words Summary: President Trump made the decision to pull the troops - about half the number the United States has in Afghanistan now - at the same time he decided to pull American forces out of Syria, one official said. The whirlwind of troop withdrawals and the resignation of Mr. Mattis leave a murky picture for what is next in the United States’ longest war, and they come as Afghanistan has been troubled by spasms of violence afflicting the capital, Kabul, and other important areas. Though Pentagon officials have said the influx of forces - coupled with a more aggressive air campaign - was helping the war effort, Afghan forces continued to take nearly unsustainable levels of casualties and lose ground to the Taliban. They saw the abrupt decision as a further sign that voices from the ground were lacking in the debate over the war and that with Mr. Mattis’s resignation, Afghanistan had lost one of the last influential voices in Washington who channeled the reality of the conflict into the White House’s deliberations. \"\n",
      "The Trump administration has ordered the military to start withdrawing roughly 7,000 troops from Afghanistan in the coming months, two defense officials said Thursday, an abrupt shift in the 17-year-old war there and a decision that stunned Afghan officials, who said they had not been briefed on the plans.\n",
      "Bag of Words - ROUGE: {'rouge-1': {'r': 0.9897959183673469, 'p': 0.697841726618705, 'f': 0.8185653959935195}, 'rouge-2': {'r': 0.9772727272727273, 'p': 0.6, 'f': 0.7435158454301589}, 'rouge-l': {'r': 0.9897959183673469, 'p': 0.697841726618705, 'f': 0.8185653959935195}}\n",
      "Bag of Words - BLEU: 0.5889776173146822\n"
     ]
    }
   ],
   "source": [
    "\n",
    "print(\"Bag of Words Summary:\", bow_summary)\n",
    "print(\"Bag of Words - ROUGE:\", calculate_rouge(reference_summary, bow_summary))\n",
    "print(\"Bag of Words - BLEU:\", calculate_bleu(reference_summary, bow_summary))\n"
   ]
  },
  {
   "cell_type": "code",
   "execution_count": 40,
   "metadata": {},
   "outputs": [
    {
     "name": "stdout",
     "output_type": "stream",
     "text": [
      "\n",
      "TF-IDF Summary: The announcement came hours after Jim Mattis, the secretary of defense, said that he would resign from his position at the end of February after disagreeing with the president over his approach to policy in the Middle East. Though Pentagon officials have said the influx of forces - coupled with a more aggressive air campaign - was helping the war effort, Afghan forces continued to take nearly unsustainable levels of casualties and lose ground to the Taliban. They saw the abrupt decision as a further sign that voices from the ground were lacking in the debate over the war and that with Mr. Mattis’s resignation, Afghanistan had lost one of the last influential voices in Washington who channeled the reality of the conflict into the White House’s deliberations. The whirlwind of troop withdrawals and the resignation of Mr. Mattis leave a murky picture for what is next in the United States’ longest war, and they come as Afghanistan has been troubled by spasms of violence afflicting the capital, Kabul, and other important areas. \"\n",
      "The Trump administration has ordered the military to start withdrawing roughly 7,000 troops from Afghanistan in the coming months, two defense officials said Thursday, an abrupt shift in the 17-year-old war there and a decision that stunned Afghan officials, who said they had not been briefed on the plans.\n",
      "TF-IDF - ROUGE: {'rouge-1': {'r': 0.9897959183673469, 'p': 0.6736111111111112, 'f': 0.8016528877426405}, 'rouge-2': {'r': 0.9772727272727273, 'p': 0.5972222222222222, 'f': 0.7413793056361476}, 'rouge-l': {'r': 0.9897959183673469, 'p': 0.6736111111111112, 'f': 0.8016528877426405}}\n",
      "TF-IDF - BLEU: 0.5889776173146822\n"
     ]
    }
   ],
   "source": [
    "print(\"\\nTF-IDF Summary:\", tfidf_summary)\n",
    "print(\"TF-IDF - ROUGE:\", calculate_rouge(reference_summary, tfidf_summary))\n",
    "print(\"TF-IDF - BLEU:\", calculate_bleu(reference_summary, tfidf_summary))"
   ]
  },
  {
   "cell_type": "code",
   "execution_count": 41,
   "metadata": {},
   "outputs": [
    {
     "name": "stdout",
     "output_type": "stream",
     "text": [
      "\n",
      "LSA Summary: The president long campaigned on bringing troops home, but in 2017, at the request of Mr. Mattis, he begrudgingly pledged an additional 4,000 troops to the Afghan campaign to try to hasten an end to the conflict. Several Afghan officials, often in the loop on security planning and decision-making, said they had received no indication in recent days that the Americans would pull troops out. Though Pentagon officials have said the influx of forces - coupled with a more aggressive air campaign - was helping the war effort, Afghan forces continued to take nearly unsustainable levels of casualties and lose ground to the Taliban. \"\n",
      "The Trump administration has ordered the military to start withdrawing roughly 7,000 troops from Afghanistan in the coming months, two defense officials said Thursday, an abrupt shift in the 17-year-old war there and a decision that stunned Afghan officials, who said they had not been briefed on the plans. President Trump made the decision to pull the troops - about half the number the United States has in Afghanistan now - at the same time he decided to pull American forces out of Syria, one official said.\n",
      "LSA - ROUGE: {'rouge-1': {'r': 0.5, 'p': 0.4083333333333333, 'f': 0.4495412794545914}, 'rouge-2': {'r': 0.3181818181818182, 'p': 0.23076923076923078, 'f': 0.26751591869365904}, 'rouge-l': {'r': 0.4489795918367347, 'p': 0.36666666666666664, 'f': 0.40366971982156385}}\n",
      "LSA - BLEU: 0.23758345539508885\n"
     ]
    }
   ],
   "source": [
    "print(\"\\nLSA Summary:\", lsa_summary)\n",
    "print(\"LSA - ROUGE:\", calculate_rouge(reference_summary, lsa_summary))\n",
    "print(\"LSA - BLEU:\", calculate_bleu(reference_summary, lsa_summary))"
   ]
  },
  {
   "cell_type": "code",
   "execution_count": 42,
   "metadata": {},
   "outputs": [
    {
     "name": "stdout",
     "output_type": "stream",
     "text": [
      "\n",
      "Graph-Based Ranking Summary: President Trump made the decision to pull the troops - about half the number the United States has in Afghanistan now - at the same time he decided to pull American forces out of Syria, one official said. \"\n",
      "The Trump administration has ordered the military to start withdrawing roughly 7,000 troops from Afghanistan in the coming months, two defense officials said Thursday, an abrupt shift in the 17-year-old war there and a decision that stunned Afghan officials, who said they had not been briefed on the plans. Though Pentagon officials have said the influx of forces - coupled with a more aggressive air campaign - was helping the war effort, Afghan forces continued to take nearly unsustainable levels of casualties and lose ground to the Taliban. The president long campaigned on bringing troops home, but in 2017, at the request of Mr. Mattis, he begrudgingly pledged an additional 4,000 troops to the Afghan campaign to try to hasten an end to the conflict. Several Afghan officials, often in the loop on security planning and decision-making, said they had received no indication in recent days that the Americans would pull troops out.\n",
      "Graph-Based Ranking - ROUGE: {'rouge-1': {'r': 0.5, 'p': 0.4083333333333333, 'f': 0.4495412794545914}, 'rouge-2': {'r': 0.3181818181818182, 'p': 0.23076923076923078, 'f': 0.26751591869365904}, 'rouge-l': {'r': 0.4489795918367347, 'p': 0.36666666666666664, 'f': 0.40366971982156385}}\n",
      "Graph-Based Ranking - BLEU: 0.23758345539508885\n"
     ]
    }
   ],
   "source": [
    "print(\"\\nGraph-Based Ranking Summary:\", graph_summary)\n",
    "print(\"Graph-Based Ranking - ROUGE:\", calculate_rouge(reference_summary, graph_summary))\n",
    "print(\"Graph-Based Ranking - BLEU:\", calculate_bleu(reference_summary, graph_summary))"
   ]
  },
  {
   "cell_type": "code",
   "execution_count": 43,
   "metadata": {},
   "outputs": [
    {
     "name": "stdout",
     "output_type": "stream",
     "text": [
      "                 Model   ROUGE-1   ROUGE-2   ROUGE-L      BLEU\n",
      "0         Bag of Words  0.818565  0.743516  0.818565  0.588978\n",
      "1               TF-IDF  0.801653  0.741379  0.801653  0.588978\n",
      "2                  LSA  0.449541  0.267516  0.403670  0.237583\n",
      "3  Graph-Based Ranking  0.449541  0.267516  0.403670  0.237583\n",
      "4     Topic Clustering  0.720430  0.687747  0.720430  0.664892\n"
     ]
    }
   ],
   "source": [
    "import pandas as pd\n",
    "summaries = {\n",
    "    \"Bag of Words\": BagOfWords.summarize(text),\n",
    "    \"TF-IDF\": TFIDF.summarize(text),\n",
    "    \"LSA\": LSA.summarize(text),\n",
    "    \"Graph-Based Ranking\": GraphRank.summarize(text),\n",
    "    \"Topic Clustering\": TopicClustering.summarize(text, n_clusters=3)\n",
    "}\n",
    "\n",
    "# Store metrics for each model\n",
    "results = {\n",
    "    \"Model\": [],\n",
    "    \"ROUGE-1\": [],\n",
    "    \"ROUGE-2\": [],\n",
    "    \"ROUGE-L\": [],\n",
    "    \"BLEU\": []\n",
    "}\n",
    "\n",
    "# Evaluate each model and populate the results\n",
    "for model_name, summary in summaries.items():\n",
    "    rouge_scores = calculate_rouge(reference_summary, summary)\n",
    "    bleu_score = calculate_bleu(reference_summary, summary)\n",
    "    \n",
    "    results[\"Model\"].append(model_name)\n",
    "    results[\"ROUGE-1\"].append(rouge_scores['rouge-1']['f'])\n",
    "    results[\"ROUGE-2\"].append(rouge_scores['rouge-2']['f'])\n",
    "    results[\"ROUGE-L\"].append(rouge_scores['rouge-l']['f'])\n",
    "    results[\"BLEU\"].append(bleu_score)\n",
    "\n",
    "# Create a DataFrame for a structured display\n",
    "df_results = pd.DataFrame(results)\n",
    "print(df_results)"
   ]
  },
  {
   "cell_type": "code",
   "execution_count": null,
   "metadata": {},
   "outputs": [],
   "source": []
  }
 ],
 "metadata": {
  "kernelspec": {
   "display_name": "Python 3",
   "language": "python",
   "name": "python3"
  },
  "language_info": {
   "codemirror_mode": {
    "name": "ipython",
    "version": 3
   },
   "file_extension": ".py",
   "mimetype": "text/x-python",
   "name": "python",
   "nbconvert_exporter": "python",
   "pygments_lexer": "ipython3",
   "version": "3.11.4"
  }
 },
 "nbformat": 4,
 "nbformat_minor": 2
}
